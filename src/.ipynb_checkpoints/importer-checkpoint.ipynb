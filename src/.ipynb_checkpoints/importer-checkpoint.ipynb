{
 "cells": [
  {
   "cell_type": "code",
   "execution_count": 1,
   "metadata": {},
   "outputs": [],
   "source": [
    "import generate_tone as gt\n",
    "import numpy as np\n",
    "from time import sleep"
   ]
  },
  {
   "cell_type": "code",
   "execution_count": 6,
   "metadata": {},
   "outputs": [],
   "source": [
    "gt_thread = gt.generate_tone()\n",
    "gt_thread.start()\n",
    "for i in range(10):\n",
    "    gt.set_level(0.5)\n",
    "    sleep(.5)\n",
    "    gt.set_level(0.5)\n",
    "    sleep(.5)\n",
    "gt_thread.running = False"
   ]
  },
  {
   "cell_type": "code",
   "execution_count": 3,
   "metadata": {},
   "outputs": [
    {
     "data": {
      "text/plain": [
       "<Figure size 640x480 with 1 Axes>"
      ]
     },
     "metadata": {},
     "output_type": "display_data"
    }
   ],
   "source": [
    "import matplotlib.pyplot as plt\n",
    "\n",
    "level = 0\n",
    "newlevel = 0.3\n",
    "\n",
    "ft_len = 1024\n",
    "r = np.arange(0, ft_len)*np.pi/ft_len\n",
    "diff = level - newlevel\n",
    "level_filter = (0.5 + np.sign(diff) * 0.5 * np.cos(r)) ** 0.5 * abs(diff) + min(level, newlevel)\n",
    "\n",
    "plt.figure()\n",
    "plt.plot(range(1024), level_filter)\n",
    "plt.show()"
   ]
  },
  {
   "cell_type": "code",
   "execution_count": null,
   "metadata": {},
   "outputs": [],
   "source": []
  }
 ],
 "metadata": {
  "kernelspec": {
   "display_name": "Python 3",
   "language": "python",
   "name": "python3"
  },
  "language_info": {
   "codemirror_mode": {
    "name": "ipython",
    "version": 3
   },
   "file_extension": ".py",
   "mimetype": "text/x-python",
   "name": "python",
   "nbconvert_exporter": "python",
   "pygments_lexer": "ipython3",
   "version": "3.7.3"
  }
 },
 "nbformat": 4,
 "nbformat_minor": 2
}
