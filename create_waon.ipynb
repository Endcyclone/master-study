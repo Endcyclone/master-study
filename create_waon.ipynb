{
 "cells": [
  {
   "cell_type": "code",
   "execution_count": 1,
   "metadata": {},
   "outputs": [],
   "source": [
    "import numpy as np\n",
    "import pyaudio"
   ]
  },
  {
   "cell_type": "code",
   "execution_count": 3,
   "metadata": {},
   "outputs": [],
   "source": [
    "class play_wave:\n",
    "        def __init__(self):\n",
    "            self.p = pyaudio.PyAudio()\n",
    "            self.stream = self.p.open(format=pyaudio.paFloat32, channels=1, rate=44100, output=1)\n",
    "        def close(self):\n",
    "            self.stream.close()\n",
    "            self.p.terminate()\n",
    "        def play(self, signal):\n",
    "            signal *= 0.1\n",
    "            self.stream.write(signal.astype(np.float32).tostring())"
   ]
  },
  {
   "cell_type": "code",
   "execution_count": 20,
   "metadata": {
    "scrolled": true
   },
   "outputs": [],
   "source": [
    "class create_waon:\n",
    "    def __init__(self):\n",
    "        return\n",
    "    def sine(self, frequency, length, rate):\n",
    "        length = int(length * rate)\n",
    "        factor = float(frequency) * (np.pi * 2) / rate\n",
    "        return np.sin(np.arange(length) * factor)\n",
    "    def return_waon(self, nums, levels):\n",
    "        result = np.zeros(44100)\n",
    "        for i, (n, l) in enumerate(zip(nums, levels)):\n",
    "            s = 44100 - int(44100 * (1-0.1*i))\n",
    "            result[s: ] += self.sine(440 * (2 ** (1/12)) ** n , 1 - 0.1*i, 44100) * l\n",
    "        return result\n",
    "    def major(self, pitch):\n",
    "        return self.return_waon([pitch, pitch+4, pitch+7], [1,1,1])\n",
    "    def minor(self, pitch):\n",
    "        return self.return_waon([pitch, pitch+3, pitch+7], [1,1,1])\n",
    "    def dim(self, pitch):\n",
    "        return self.return_waon([pitch, pitch+3, pitch+6], [1,1,1])\n",
    "    def aug(self, pitch):\n",
    "        return self.return_waon([pitch, pitch+4, pitch+8], [1,1,1])"
   ]
  },
  {
   "cell_type": "code",
   "execution_count": 32,
   "metadata": {},
   "outputs": [],
   "source": [
    "# メインスレッド\n",
    "# 0 = 440Hz\n",
    "\n",
    "pw = play_wave()\n",
    "cw = create_waon()\n",
    "\n",
    "pw.play(cw.major(0))\n",
    "pw.play(cw.minor(0))\n",
    "pw.play(cw.dim(0))\n",
    "pw.play(cw.aug(0))\n",
    "pw.close()"
   ]
  },
  {
   "cell_type": "code",
   "execution_count": null,
   "metadata": {},
   "outputs": [],
   "source": []
  }
 ],
 "metadata": {
  "kernelspec": {
   "display_name": "Python 3",
   "language": "python",
   "name": "python3"
  },
  "language_info": {
   "codemirror_mode": {
    "name": "ipython",
    "version": 3
   },
   "file_extension": ".py",
   "mimetype": "text/x-python",
   "name": "python",
   "nbconvert_exporter": "python",
   "pygments_lexer": "ipython3",
   "version": "3.7.3"
  }
 },
 "nbformat": 4,
 "nbformat_minor": 2
}
