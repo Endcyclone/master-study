{
 "cells": [
  {
   "cell_type": "code",
   "execution_count": 1,
   "metadata": {},
   "outputs": [],
   "source": [
    "import numpy as np\n",
    "import matplotlib.pyplot as plt\n",
    "from mpl_toolkits.mplot3d import Axes3D\n",
    "import sympy as sp\n",
    "from sympy.plotting import plot3d\n",
    "import pyaudio"
   ]
  },
  {
   "cell_type": "code",
   "execution_count": 2,
   "metadata": {},
   "outputs": [],
   "source": [
    "class play_wave:\n",
    "        def __init__(self):\n",
    "            self.p = pyaudio.PyAudio()\n",
    "            self.stream = self.p.open(format=pyaudio.paFloat32, channels=1, rate=44100, output=1)\n",
    "        def close(self):\n",
    "            self.stream.close()\n",
    "            self.p.terminate()\n",
    "        def play(self, signal):\n",
    "            signal *= 0.1\n",
    "            self.stream.write(signal.astype(np.float32).tostring())"
   ]
  },
  {
   "cell_type": "code",
   "execution_count": 3,
   "metadata": {},
   "outputs": [],
   "source": [
    "class create_waon:\n",
    "    def __init__(self):\n",
    "        return\n",
    "    def sine(self, frequency, length, rate):\n",
    "        length = int(length * rate)\n",
    "        factor = float(frequency) * (np.pi * 2) / rate\n",
    "        return np.sin(np.arange(length) * factor)\n",
    "    def return_waon(self, nums, levels):\n",
    "        result = np.zeros(44100)\n",
    "        for i, (n, l) in enumerate(zip(nums, levels)):\n",
    "            s = 44100 - int(44100 * (1-0.1*i))\n",
    "            result[s: ] += self.sine(440 * (2 ** (1/12)) ** n , 1 - 0.1*i, 44100) * l\n",
    "        return result\n",
    "    def major(self, pitch):\n",
    "        return self.return_waon([pitch, pitch+4, pitch+7], [1,1,1])\n",
    "    def minor(self, pitch):\n",
    "        return self.return_waon([pitch, pitch+3, pitch+7], [1,1,1])\n",
    "    def dim(self, pitch):\n",
    "        return self.return_waon([pitch, pitch+3, pitch+6], [1,1,1])\n",
    "    def aug(self, pitch):\n",
    "        return self.return_waon([pitch, pitch+4, pitch+8], [1,1,1])"
   ]
  },
  {
   "cell_type": "code",
   "execution_count": 4,
   "metadata": {},
   "outputs": [],
   "source": [
    "def create_plane(a, b, c):\n",
    "    ab = b - a\n",
    "    ac = c - a\n",
    "    normal = np.cross(ab, ac)\n",
    "    return normal"
   ]
  },
  {
   "cell_type": "code",
   "execution_count": 5,
   "metadata": {},
   "outputs": [],
   "source": [
    "def random_plane():\n",
    "    normal = np.zeros(3,)\n",
    "    \n",
    "    while(normal[0] == 0 or normal[2] == 0):\n",
    "        a = np.array([0,0,0])\n",
    "        b = np.random.randint(-5,5,(3,))\n",
    "        c = np.random.randint(-5,5,(3,))\n",
    "        normal = create_plane(a,b,c)\n",
    "        \n",
    "    return normal\n",
    "\n",
    "def plot_plane(normal):\n",
    "    d = - 1 * np.zeros(3,).dot(normal)\n",
    "    xx, yy = np.meshgrid(range(-10,10), range(-10,10))\n",
    "    z = (-normal[0] * xx - normal[1] * yy - d) * 1. / normal[2]\n",
    "\n",
    "    n = np.outer(normal, np.arange(-2,2,0.1)) + np.array([[0],[0],[z[10,10]]])\n",
    "\n",
    "    plt3d = plt.figure(figsize=(6,6)).gca(projection='3d')\n",
    "    plt3d.plot_surface(xx, yy, z, alpha = 0.7)\n",
    "    plt3d.plot(n[0],n[1],n[2], color=\"red\", ms=4, mew=1)\n",
    "    plt3d.view_init(0,0)\n",
    "    plt3d.set_xlabel(\"X-axis\")\n",
    "    plt3d.set_ylabel(\"Y-axis\")\n",
    "    plt3d.set_zlabel(\"Z-axis\")\n",
    "    plt.plot([0],[0],[z[10,10]], color=\"blue\", marker = \".\", ms=15, mew = 1)\n",
    "    plt.show()"
   ]
  },
  {
   "cell_type": "code",
   "execution_count": 6,
   "metadata": {},
   "outputs": [],
   "source": [
    "def plane_sound():\n",
    "    normal = random_plane()\n",
    "    #normal = np.array([5,0,5])\n",
    "    #plot_plane(normal)\n",
    "\n",
    "    eyes = (10,0,0)\n",
    "    face = sp.Plane(sp.Point3D(eyes), normal_vector = eyes)\n",
    "\n",
    "    p = sp.Plane(sp.Point3D(0,0,0), normal_vector = normal)\n",
    "    l = sp.Line3D(sp.Point3D(eyes), sp.Point3D(0,0,0))\n",
    "    nl = sp.Line3D(p.intersection(l)[0], direction_ratio = normal)\n",
    "\n",
    "    point = face.intersection(nl)\n",
    "    #print(point[0].evalf())\n",
    "    x, y, z = float(point[0].x), float(point[0].y), float(point[0].z)\n",
    "    if y == 0:\n",
    "        angle = 90 * np.sign(z)\n",
    "    elif y > 0:\n",
    "        angle = np.arctan(z / y) * 180 / np.pi\n",
    "    else:\n",
    "        angle = np.arctan(z / y) * 180 / np.pi + 180\n",
    "    angle -= 90\n",
    "    dist = (y ** 2 + z ** 2) ** 0.5\n",
    "    #print(angle, dist)\n",
    "    pw = play_wave()\n",
    "    cw = create_waon()\n",
    "    s = cw.sine(440 + angle, 2, 44100) / np.log(dist)\n",
    "    #print(np.log(dist))\n",
    "    pw.play(s)\n",
    "    pw.close()\n",
    "    return normal, angle, dist"
   ]
  },
  {
   "cell_type": "code",
   "execution_count": 25,
   "metadata": {
    "scrolled": true
   },
   "outputs": [],
   "source": [
    "normal, angle, dist = plane_sound()"
   ]
  },
  {
   "cell_type": "code",
   "execution_count": 26,
   "metadata": {},
   "outputs": [
    {
     "data": {
      "image/png": "[encoded data removed]",
      "text/plain": [
       "<Figure size 432x432 with 1 Axes>"
      ]
     },
     "metadata": {
      "needs_background": "light"
     },
     "output_type": "display_data"
    },
    {
     "name": "stdout",
     "output_type": "stream",
     "text": [
      "0.0 10.0\n"
     ]
    }
   ],
   "source": [
    "plot_plane(normal)\n",
    "print(angle, dist)"
   ]
  },
  {
   "cell_type": "code",
   "execution_count": null,
   "metadata": {},
   "outputs": [],
   "source": []
  }
 ],
 "metadata": {
  "kernelspec": {
   "display_name": "Python 3",
   "language": "python",
   "name": "python3"
  },
  "language_info": {
   "codemirror_mode": {
    "name": "ipython",
    "version": 3
   },
   "file_extension": ".py",
   "mimetype": "text/x-python",
   "name": "python",
   "nbconvert_exporter": "python",
   "pygments_lexer": "ipython3",
   "version": "3.7.3"
  }
 },
 "nbformat": 4,
 "nbformat_minor": 2
}
